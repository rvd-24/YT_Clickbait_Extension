{
  "nbformat": 4,
  "nbformat_minor": 0,
  "metadata": {
    "colab": {
      "provenance": []
    },
    "kernelspec": {
      "name": "python3",
      "display_name": "Python 3"
    },
    "language_info": {
      "name": "python"
    },
    "gpuClass": "standard",
    "accelerator": "GPU"
  },
  "cells": [
    {
      "cell_type": "code",
      "execution_count": null,
      "metadata": {
        "id": "fXl5jGPyRsOA"
      },
      "outputs": [],
      "source": []
    },
    {
      "cell_type": "code",
      "execution_count": 2,
      "metadata": {
        "colab": {
          "base_uri": "https://localhost:8080/"
        },
        "id": "nGrdL8KfCHw1",
        "outputId": "d5f9ef60-2422-477f-b073-678b25fdb2f0"
      },
      "outputs": [
        {
          "output_type": "stream",
          "name": "stdout",
          "text": [
            "Mounted at /content/drive\n"
          ]
        }
      ],
      "source": [
        "import pandas as pd\n",
        "import numpy as np\n",
        "from google.colab import drive\n",
        "drive.mount('/content/drive')"
      ]
    },
    {
      "cell_type": "code",
      "source": [
        "df=pd.read_csv(\"/content/drive/MyDrive/Colab Notebooks/Merged_final.csv\")"
      ],
      "metadata": {
        "id": "y_65NcuICfPb"
      },
      "execution_count": 3,
      "outputs": []
    },
    {
      "cell_type": "code",
      "source": [
        "df"
      ],
      "metadata": {
        "colab": {
          "base_uri": "https://localhost:8080/",
          "height": 1000
        },
        "id": "9yA4KuwSC3iy",
        "outputId": "8fb3ed61-b83a-4ce8-8fd7-3cbb30573882"
      },
      "execution_count": 4,
      "outputs": [
        {
          "output_type": "execute_result",
          "data": {
            "text/plain": [
              "     Unnamed: 0                                      url_ids  \\\n",
              "0             1                                  hxwpkM5w3Cc   \n",
              "1             3                                  81mXAkFEkMs   \n",
              "2             4                                  9NQQKNAwaPk   \n",
              "3             5                                  Y_PQrPRolvM   \n",
              "4             6                                  ZZtYAOpHVYk   \n",
              "..          ...                                          ...   \n",
              "590         491  https://www.youtube.com/watch?v=gP4f-0shRWg   \n",
              "591         492  https://www.youtube.com/watch?v=phhjGlNIsrg   \n",
              "592         493  https://www.youtube.com/watch?v=cfMzK7QwfrU   \n",
              "593         494  https://www.youtube.com/watch?v=D1GVbLBfrcc   \n",
              "594         495  https://www.youtube.com/watch?v=aZwANxjeb1w   \n",
              "\n",
              "                                                 Title     likes     views  \\\n",
              "0                              I Got Hunted By The FBI  42724724   2005151   \n",
              "1          10 Real Life Giants You Won't Believe Exist   6890718     15222   \n",
              "2          10 Mythical CREATURES That Actually Existed   2089601     46750   \n",
              "3                        Real Giants Caught On Camera!    518170      4033   \n",
              "4                                  10 Real Life GIANTS   9244943     64025   \n",
              "..                                                 ...       ...       ...   \n",
              "590  Two Alien Spaceships Approaching the Earth in ...       522    151637   \n",
              "591         ISIS Releases David Haines Beheading Video       881   1824279   \n",
              "592  9-year-old girl accidentally kills shooting in...     40201  15953145   \n",
              "593  Jason Derulo - Wiggle ft. Snoop Dogg (COVER by...      3646    344256   \n",
              "594  Jinn Caught on Cam in Mecca During Hajj Exclus...      1521   1568945   \n",
              "\n",
              "     label  dislikes                                         Thumbnail  \\\n",
              "0        1   24646.0  https://i.ytimg.com/vi/gLTculVDUac/hqdefault.jpg   \n",
              "1        1    2858.0  https://i.ytimg.com/vi/gLTculVDUac/hqdefault.jpg   \n",
              "2        1    1954.0  https://i.ytimg.com/vi/gLTculVDUac/hqdefault.jpg   \n",
              "3        1     271.0  https://i.ytimg.com/vi/gLTculVDUac/hqdefault.jpg   \n",
              "4        1    6508.0  https://i.ytimg.com/vi/gLTculVDUac/hqdefault.jpg   \n",
              "..     ...       ...                                               ...   \n",
              "590      0       NaN  https://i.ytimg.com/vi/gP4f-0shRWg/hqdefault.jpg   \n",
              "591      0       NaN  https://i.ytimg.com/vi/phhjGlNIsrg/hqdefault.jpg   \n",
              "592      0       NaN  https://i.ytimg.com/vi/cfMzK7QwfrU/hqdefault.jpg   \n",
              "593      0       NaN  https://i.ytimg.com/vi/D1GVbLBfrcc/hqdefault.jpg   \n",
              "594      0       NaN  https://i.ytimg.com/vi/aZwANxjeb1w/hqdefault.jpg   \n",
              "\n",
              "                                              Comments  \\\n",
              "0    ['Subscribe for a free car!', 'You should make...   \n",
              "1    ['Hi friends.Thanks for watching!', '<a href=\"...   \n",
              "2    ['Pov the kid:AAAAAAAAAAAAAAAAAAAAAAAAAAAAAAAA...   \n",
              "3    ['Hi friends.Thanks for watching!', 'im here f...   \n",
              "4    ['Andre was a very heavy drinker because of co...   \n",
              "..                                                 ...   \n",
              "590  ['Miya, make a Longer video next time please.....   \n",
              "591  ['Now that Trump won the presidency, obama isn...   \n",
              "592  ['I&#39;ve watched adults turn around away fro...   \n",
              "593  ['amazing content', 'I finally found this', 'M...   \n",
              "594  ['Jin itna chota thodi hote h', '&#39;&#39; is...   \n",
              "\n",
              "                                                 Clean  \n",
              "0    subscribe free car make movie put tracker unde...  \n",
              "1    hi friend thanks watching href crutch called s...  \n",
              "2    pov kid aaaaaaaaaaaaaaaaaaaaaaaaaaaaaaaaaaaaaa...  \n",
              "3    hi friend thanks watching im thumb waiting exp...  \n",
              "4    andre heavy drinker constant pain due conditio...  \n",
              "..                                                 ...  \n",
              "590  miya make longer video next time please great ...  \n",
              "591  trump presidency obama arming isi anymore trum...  \n",
              "592  watched adult turn around away target finger t...  \n",
              "593  amazing content finally found man time pass qu...  \n",
              "594  jin itna chota thodi hote h islam holiest shri...  \n",
              "\n",
              "[595 rows x 10 columns]"
            ],
            "text/html": [
              "\n",
              "  <div id=\"df-3e63752a-59ec-46e7-9a07-a8c9a95b1d74\">\n",
              "    <div class=\"colab-df-container\">\n",
              "      <div>\n",
              "<style scoped>\n",
              "    .dataframe tbody tr th:only-of-type {\n",
              "        vertical-align: middle;\n",
              "    }\n",
              "\n",
              "    .dataframe tbody tr th {\n",
              "        vertical-align: top;\n",
              "    }\n",
              "\n",
              "    .dataframe thead th {\n",
              "        text-align: right;\n",
              "    }\n",
              "</style>\n",
              "<table border=\"1\" class=\"dataframe\">\n",
              "  <thead>\n",
              "    <tr style=\"text-align: right;\">\n",
              "      <th></th>\n",
              "      <th>Unnamed: 0</th>\n",
              "      <th>url_ids</th>\n",
              "      <th>Title</th>\n",
              "      <th>likes</th>\n",
              "      <th>views</th>\n",
              "      <th>label</th>\n",
              "      <th>dislikes</th>\n",
              "      <th>Thumbnail</th>\n",
              "      <th>Comments</th>\n",
              "      <th>Clean</th>\n",
              "    </tr>\n",
              "  </thead>\n",
              "  <tbody>\n",
              "    <tr>\n",
              "      <th>0</th>\n",
              "      <td>1</td>\n",
              "      <td>hxwpkM5w3Cc</td>\n",
              "      <td>I Got Hunted By The FBI</td>\n",
              "      <td>42724724</td>\n",
              "      <td>2005151</td>\n",
              "      <td>1</td>\n",
              "      <td>24646.0</td>\n",
              "      <td>https://i.ytimg.com/vi/gLTculVDUac/hqdefault.jpg</td>\n",
              "      <td>['Subscribe for a free car!', 'You should make...</td>\n",
              "      <td>subscribe free car make movie put tracker unde...</td>\n",
              "    </tr>\n",
              "    <tr>\n",
              "      <th>1</th>\n",
              "      <td>3</td>\n",
              "      <td>81mXAkFEkMs</td>\n",
              "      <td>10 Real Life Giants You Won't Believe Exist</td>\n",
              "      <td>6890718</td>\n",
              "      <td>15222</td>\n",
              "      <td>1</td>\n",
              "      <td>2858.0</td>\n",
              "      <td>https://i.ytimg.com/vi/gLTculVDUac/hqdefault.jpg</td>\n",
              "      <td>['Hi friends.Thanks for watching!', '&lt;a href=\"...</td>\n",
              "      <td>hi friend thanks watching href crutch called s...</td>\n",
              "    </tr>\n",
              "    <tr>\n",
              "      <th>2</th>\n",
              "      <td>4</td>\n",
              "      <td>9NQQKNAwaPk</td>\n",
              "      <td>10 Mythical CREATURES That Actually Existed</td>\n",
              "      <td>2089601</td>\n",
              "      <td>46750</td>\n",
              "      <td>1</td>\n",
              "      <td>1954.0</td>\n",
              "      <td>https://i.ytimg.com/vi/gLTculVDUac/hqdefault.jpg</td>\n",
              "      <td>['Pov the kid:AAAAAAAAAAAAAAAAAAAAAAAAAAAAAAAA...</td>\n",
              "      <td>pov kid aaaaaaaaaaaaaaaaaaaaaaaaaaaaaaaaaaaaaa...</td>\n",
              "    </tr>\n",
              "    <tr>\n",
              "      <th>3</th>\n",
              "      <td>5</td>\n",
              "      <td>Y_PQrPRolvM</td>\n",
              "      <td>Real Giants Caught On Camera!</td>\n",
              "      <td>518170</td>\n",
              "      <td>4033</td>\n",
              "      <td>1</td>\n",
              "      <td>271.0</td>\n",
              "      <td>https://i.ytimg.com/vi/gLTculVDUac/hqdefault.jpg</td>\n",
              "      <td>['Hi friends.Thanks for watching!', 'im here f...</td>\n",
              "      <td>hi friend thanks watching im thumb waiting exp...</td>\n",
              "    </tr>\n",
              "    <tr>\n",
              "      <th>4</th>\n",
              "      <td>6</td>\n",
              "      <td>ZZtYAOpHVYk</td>\n",
              "      <td>10 Real Life GIANTS</td>\n",
              "      <td>9244943</td>\n",
              "      <td>64025</td>\n",
              "      <td>1</td>\n",
              "      <td>6508.0</td>\n",
              "      <td>https://i.ytimg.com/vi/gLTculVDUac/hqdefault.jpg</td>\n",
              "      <td>['Andre was a very heavy drinker because of co...</td>\n",
              "      <td>andre heavy drinker constant pain due conditio...</td>\n",
              "    </tr>\n",
              "    <tr>\n",
              "      <th>...</th>\n",
              "      <td>...</td>\n",
              "      <td>...</td>\n",
              "      <td>...</td>\n",
              "      <td>...</td>\n",
              "      <td>...</td>\n",
              "      <td>...</td>\n",
              "      <td>...</td>\n",
              "      <td>...</td>\n",
              "      <td>...</td>\n",
              "      <td>...</td>\n",
              "    </tr>\n",
              "    <tr>\n",
              "      <th>590</th>\n",
              "      <td>491</td>\n",
              "      <td>https://www.youtube.com/watch?v=gP4f-0shRWg</td>\n",
              "      <td>Two Alien Spaceships Approaching the Earth in ...</td>\n",
              "      <td>522</td>\n",
              "      <td>151637</td>\n",
              "      <td>0</td>\n",
              "      <td>NaN</td>\n",
              "      <td>https://i.ytimg.com/vi/gP4f-0shRWg/hqdefault.jpg</td>\n",
              "      <td>['Miya, make a Longer video next time please.....</td>\n",
              "      <td>miya make longer video next time please great ...</td>\n",
              "    </tr>\n",
              "    <tr>\n",
              "      <th>591</th>\n",
              "      <td>492</td>\n",
              "      <td>https://www.youtube.com/watch?v=phhjGlNIsrg</td>\n",
              "      <td>ISIS Releases David Haines Beheading Video</td>\n",
              "      <td>881</td>\n",
              "      <td>1824279</td>\n",
              "      <td>0</td>\n",
              "      <td>NaN</td>\n",
              "      <td>https://i.ytimg.com/vi/phhjGlNIsrg/hqdefault.jpg</td>\n",
              "      <td>['Now that Trump won the presidency, obama isn...</td>\n",
              "      <td>trump presidency obama arming isi anymore trum...</td>\n",
              "    </tr>\n",
              "    <tr>\n",
              "      <th>592</th>\n",
              "      <td>493</td>\n",
              "      <td>https://www.youtube.com/watch?v=cfMzK7QwfrU</td>\n",
              "      <td>9-year-old girl accidentally kills shooting in...</td>\n",
              "      <td>40201</td>\n",
              "      <td>15953145</td>\n",
              "      <td>0</td>\n",
              "      <td>NaN</td>\n",
              "      <td>https://i.ytimg.com/vi/cfMzK7QwfrU/hqdefault.jpg</td>\n",
              "      <td>['I&amp;#39;ve watched adults turn around away fro...</td>\n",
              "      <td>watched adult turn around away target finger t...</td>\n",
              "    </tr>\n",
              "    <tr>\n",
              "      <th>593</th>\n",
              "      <td>494</td>\n",
              "      <td>https://www.youtube.com/watch?v=D1GVbLBfrcc</td>\n",
              "      <td>Jason Derulo - Wiggle ft. Snoop Dogg (COVER by...</td>\n",
              "      <td>3646</td>\n",
              "      <td>344256</td>\n",
              "      <td>0</td>\n",
              "      <td>NaN</td>\n",
              "      <td>https://i.ytimg.com/vi/D1GVbLBfrcc/hqdefault.jpg</td>\n",
              "      <td>['amazing content', 'I finally found this', 'M...</td>\n",
              "      <td>amazing content finally found man time pass qu...</td>\n",
              "    </tr>\n",
              "    <tr>\n",
              "      <th>594</th>\n",
              "      <td>495</td>\n",
              "      <td>https://www.youtube.com/watch?v=aZwANxjeb1w</td>\n",
              "      <td>Jinn Caught on Cam in Mecca During Hajj Exclus...</td>\n",
              "      <td>1521</td>\n",
              "      <td>1568945</td>\n",
              "      <td>0</td>\n",
              "      <td>NaN</td>\n",
              "      <td>https://i.ytimg.com/vi/aZwANxjeb1w/hqdefault.jpg</td>\n",
              "      <td>['Jin itna chota thodi hote h', '&amp;#39;&amp;#39; is...</td>\n",
              "      <td>jin itna chota thodi hote h islam holiest shri...</td>\n",
              "    </tr>\n",
              "  </tbody>\n",
              "</table>\n",
              "<p>595 rows × 10 columns</p>\n",
              "</div>\n",
              "      <button class=\"colab-df-convert\" onclick=\"convertToInteractive('df-3e63752a-59ec-46e7-9a07-a8c9a95b1d74')\"\n",
              "              title=\"Convert this dataframe to an interactive table.\"\n",
              "              style=\"display:none;\">\n",
              "        \n",
              "  <svg xmlns=\"http://www.w3.org/2000/svg\" height=\"24px\"viewBox=\"0 0 24 24\"\n",
              "       width=\"24px\">\n",
              "    <path d=\"M0 0h24v24H0V0z\" fill=\"none\"/>\n",
              "    <path d=\"M18.56 5.44l.94 2.06.94-2.06 2.06-.94-2.06-.94-.94-2.06-.94 2.06-2.06.94zm-11 1L8.5 8.5l.94-2.06 2.06-.94-2.06-.94L8.5 2.5l-.94 2.06-2.06.94zm10 10l.94 2.06.94-2.06 2.06-.94-2.06-.94-.94-2.06-.94 2.06-2.06.94z\"/><path d=\"M17.41 7.96l-1.37-1.37c-.4-.4-.92-.59-1.43-.59-.52 0-1.04.2-1.43.59L10.3 9.45l-7.72 7.72c-.78.78-.78 2.05 0 2.83L4 21.41c.39.39.9.59 1.41.59.51 0 1.02-.2 1.41-.59l7.78-7.78 2.81-2.81c.8-.78.8-2.07 0-2.86zM5.41 20L4 18.59l7.72-7.72 1.47 1.35L5.41 20z\"/>\n",
              "  </svg>\n",
              "      </button>\n",
              "      \n",
              "  <style>\n",
              "    .colab-df-container {\n",
              "      display:flex;\n",
              "      flex-wrap:wrap;\n",
              "      gap: 12px;\n",
              "    }\n",
              "\n",
              "    .colab-df-convert {\n",
              "      background-color: #E8F0FE;\n",
              "      border: none;\n",
              "      border-radius: 50%;\n",
              "      cursor: pointer;\n",
              "      display: none;\n",
              "      fill: #1967D2;\n",
              "      height: 32px;\n",
              "      padding: 0 0 0 0;\n",
              "      width: 32px;\n",
              "    }\n",
              "\n",
              "    .colab-df-convert:hover {\n",
              "      background-color: #E2EBFA;\n",
              "      box-shadow: 0px 1px 2px rgba(60, 64, 67, 0.3), 0px 1px 3px 1px rgba(60, 64, 67, 0.15);\n",
              "      fill: #174EA6;\n",
              "    }\n",
              "\n",
              "    [theme=dark] .colab-df-convert {\n",
              "      background-color: #3B4455;\n",
              "      fill: #D2E3FC;\n",
              "    }\n",
              "\n",
              "    [theme=dark] .colab-df-convert:hover {\n",
              "      background-color: #434B5C;\n",
              "      box-shadow: 0px 1px 3px 1px rgba(0, 0, 0, 0.15);\n",
              "      filter: drop-shadow(0px 1px 2px rgba(0, 0, 0, 0.3));\n",
              "      fill: #FFFFFF;\n",
              "    }\n",
              "  </style>\n",
              "\n",
              "      <script>\n",
              "        const buttonEl =\n",
              "          document.querySelector('#df-3e63752a-59ec-46e7-9a07-a8c9a95b1d74 button.colab-df-convert');\n",
              "        buttonEl.style.display =\n",
              "          google.colab.kernel.accessAllowed ? 'block' : 'none';\n",
              "\n",
              "        async function convertToInteractive(key) {\n",
              "          const element = document.querySelector('#df-3e63752a-59ec-46e7-9a07-a8c9a95b1d74');\n",
              "          const dataTable =\n",
              "            await google.colab.kernel.invokeFunction('convertToInteractive',\n",
              "                                                     [key], {});\n",
              "          if (!dataTable) return;\n",
              "\n",
              "          const docLinkHtml = 'Like what you see? Visit the ' +\n",
              "            '<a target=\"_blank\" href=https://colab.research.google.com/notebooks/data_table.ipynb>data table notebook</a>'\n",
              "            + ' to learn more about interactive tables.';\n",
              "          element.innerHTML = '';\n",
              "          dataTable['output_type'] = 'display_data';\n",
              "          await google.colab.output.renderOutput(dataTable, element);\n",
              "          const docLink = document.createElement('div');\n",
              "          docLink.innerHTML = docLinkHtml;\n",
              "          element.appendChild(docLink);\n",
              "        }\n",
              "      </script>\n",
              "    </div>\n",
              "  </div>\n",
              "  "
            ]
          },
          "metadata": {},
          "execution_count": 4
        }
      ]
    },
    {
      "cell_type": "code",
      "source": [
        "df['label'].value_counts()"
      ],
      "metadata": {
        "colab": {
          "base_uri": "https://localhost:8080/"
        },
        "id": "O-qBUrxkC5DO",
        "outputId": "296a4a91-b0b7-4033-c8c0-3fde61c84c53"
      },
      "execution_count": 5,
      "outputs": [
        {
          "output_type": "execute_result",
          "data": {
            "text/plain": [
              "1    330\n",
              "0    265\n",
              "Name: label, dtype: int64"
            ]
          },
          "metadata": {},
          "execution_count": 5
        }
      ]
    },
    {
      "cell_type": "code",
      "source": [
        "#df['label']=df['label'].map({'real':1,'fake':0})"
      ],
      "metadata": {
        "id": "v_srJq4NC-yX"
      },
      "execution_count": 6,
      "outputs": []
    },
    {
      "cell_type": "code",
      "source": [
        "df.isna().sum()"
      ],
      "metadata": {
        "colab": {
          "base_uri": "https://localhost:8080/"
        },
        "id": "JBjyqdUMg83f",
        "outputId": "fa4ad9ce-f8cd-4f65-80fa-aa265464ea5c"
      },
      "execution_count": 7,
      "outputs": [
        {
          "output_type": "execute_result",
          "data": {
            "text/plain": [
              "Unnamed: 0      0\n",
              "url_ids         0\n",
              "Title           0\n",
              "likes           0\n",
              "views           0\n",
              "label           0\n",
              "dislikes      421\n",
              "Thumbnail       0\n",
              "Comments        0\n",
              "Clean           0\n",
              "dtype: int64"
            ]
          },
          "metadata": {},
          "execution_count": 7
        }
      ]
    },
    {
      "cell_type": "code",
      "source": [
        "for i in range(0,len(df)):\n",
        "  df['Clean'][i]=df['Title'][i]+\" \"+str(df['Clean'][i])"
      ],
      "metadata": {
        "colab": {
          "base_uri": "https://localhost:8080/"
        },
        "id": "RGiJHSr0F1an",
        "outputId": "634b82ad-cb7e-4f11-ede8-596ed317aff4"
      },
      "execution_count": 8,
      "outputs": [
        {
          "output_type": "stream",
          "name": "stderr",
          "text": [
            "<ipython-input-8-f5e07066ae2b>:2: SettingWithCopyWarning: \n",
            "A value is trying to be set on a copy of a slice from a DataFrame\n",
            "\n",
            "See the caveats in the documentation: https://pandas.pydata.org/pandas-docs/stable/user_guide/indexing.html#returning-a-view-versus-a-copy\n",
            "  df['Clean'][i]=df['Title'][i]+\" \"+str(df['Clean'][i])\n"
          ]
        }
      ]
    },
    {
      "cell_type": "code",
      "source": [
        "df['Clean'][0]"
      ],
      "metadata": {
        "colab": {
          "base_uri": "https://localhost:8080/",
          "height": 36
        },
        "id": "idTudCzOF_rm",
        "outputId": "b79f04ef-f9e1-4bce-e330-908ea3385f6e"
      },
      "execution_count": 9,
      "outputs": [
        {
          "output_type": "execute_result",
          "data": {
            "text/plain": [
              "'I Got Hunted By The FBI subscribe free car make movie put tracker underwear eu real pergunto oq ele fez beast laura anything sir'"
            ],
            "application/vnd.google.colaboratory.intrinsic+json": {
              "type": "string"
            }
          },
          "metadata": {},
          "execution_count": 9
        }
      ]
    },
    {
      "cell_type": "code",
      "source": [
        "df.drop([\"Unnamed: 0\"],axis=\"columns\",inplace=True)"
      ],
      "metadata": {
        "id": "waDbq37pbG63"
      },
      "execution_count": 10,
      "outputs": []
    },
    {
      "cell_type": "code",
      "source": [
        "df.reset_index(inplace=True)\n",
        "df.drop(['index'],axis=\"columns\",inplace=True)"
      ],
      "metadata": {
        "id": "wtxAykb_cNxK"
      },
      "execution_count": 11,
      "outputs": []
    },
    {
      "cell_type": "code",
      "source": [
        "df"
      ],
      "metadata": {
        "colab": {
          "base_uri": "https://localhost:8080/",
          "height": 1000
        },
        "id": "cxkZGeDXhF1L",
        "outputId": "d721f4b7-fba2-4433-89e2-16f85298587d"
      },
      "execution_count": 12,
      "outputs": [
        {
          "output_type": "execute_result",
          "data": {
            "text/plain": [
              "                                         url_ids  \\\n",
              "0                                    hxwpkM5w3Cc   \n",
              "1                                    81mXAkFEkMs   \n",
              "2                                    9NQQKNAwaPk   \n",
              "3                                    Y_PQrPRolvM   \n",
              "4                                    ZZtYAOpHVYk   \n",
              "..                                           ...   \n",
              "590  https://www.youtube.com/watch?v=gP4f-0shRWg   \n",
              "591  https://www.youtube.com/watch?v=phhjGlNIsrg   \n",
              "592  https://www.youtube.com/watch?v=cfMzK7QwfrU   \n",
              "593  https://www.youtube.com/watch?v=D1GVbLBfrcc   \n",
              "594  https://www.youtube.com/watch?v=aZwANxjeb1w   \n",
              "\n",
              "                                                 Title     likes     views  \\\n",
              "0                              I Got Hunted By The FBI  42724724   2005151   \n",
              "1          10 Real Life Giants You Won't Believe Exist   6890718     15222   \n",
              "2          10 Mythical CREATURES That Actually Existed   2089601     46750   \n",
              "3                        Real Giants Caught On Camera!    518170      4033   \n",
              "4                                  10 Real Life GIANTS   9244943     64025   \n",
              "..                                                 ...       ...       ...   \n",
              "590  Two Alien Spaceships Approaching the Earth in ...       522    151637   \n",
              "591         ISIS Releases David Haines Beheading Video       881   1824279   \n",
              "592  9-year-old girl accidentally kills shooting in...     40201  15953145   \n",
              "593  Jason Derulo - Wiggle ft. Snoop Dogg (COVER by...      3646    344256   \n",
              "594  Jinn Caught on Cam in Mecca During Hajj Exclus...      1521   1568945   \n",
              "\n",
              "     label  dislikes                                         Thumbnail  \\\n",
              "0        1   24646.0  https://i.ytimg.com/vi/gLTculVDUac/hqdefault.jpg   \n",
              "1        1    2858.0  https://i.ytimg.com/vi/gLTculVDUac/hqdefault.jpg   \n",
              "2        1    1954.0  https://i.ytimg.com/vi/gLTculVDUac/hqdefault.jpg   \n",
              "3        1     271.0  https://i.ytimg.com/vi/gLTculVDUac/hqdefault.jpg   \n",
              "4        1    6508.0  https://i.ytimg.com/vi/gLTculVDUac/hqdefault.jpg   \n",
              "..     ...       ...                                               ...   \n",
              "590      0       NaN  https://i.ytimg.com/vi/gP4f-0shRWg/hqdefault.jpg   \n",
              "591      0       NaN  https://i.ytimg.com/vi/phhjGlNIsrg/hqdefault.jpg   \n",
              "592      0       NaN  https://i.ytimg.com/vi/cfMzK7QwfrU/hqdefault.jpg   \n",
              "593      0       NaN  https://i.ytimg.com/vi/D1GVbLBfrcc/hqdefault.jpg   \n",
              "594      0       NaN  https://i.ytimg.com/vi/aZwANxjeb1w/hqdefault.jpg   \n",
              "\n",
              "                                              Comments  \\\n",
              "0    ['Subscribe for a free car!', 'You should make...   \n",
              "1    ['Hi friends.Thanks for watching!', '<a href=\"...   \n",
              "2    ['Pov the kid:AAAAAAAAAAAAAAAAAAAAAAAAAAAAAAAA...   \n",
              "3    ['Hi friends.Thanks for watching!', 'im here f...   \n",
              "4    ['Andre was a very heavy drinker because of co...   \n",
              "..                                                 ...   \n",
              "590  ['Miya, make a Longer video next time please.....   \n",
              "591  ['Now that Trump won the presidency, obama isn...   \n",
              "592  ['I&#39;ve watched adults turn around away fro...   \n",
              "593  ['amazing content', 'I finally found this', 'M...   \n",
              "594  ['Jin itna chota thodi hote h', '&#39;&#39; is...   \n",
              "\n",
              "                                                 Clean  \n",
              "0    I Got Hunted By The FBI subscribe free car mak...  \n",
              "1    10 Real Life Giants You Won't Believe Exist hi...  \n",
              "2    10 Mythical CREATURES That Actually Existed po...  \n",
              "3    Real Giants Caught On Camera! hi friend thanks...  \n",
              "4    10 Real Life GIANTS andre heavy drinker consta...  \n",
              "..                                                 ...  \n",
              "590  Two Alien Spaceships Approaching the Earth in ...  \n",
              "591  ISIS Releases David Haines Beheading Video tru...  \n",
              "592  9-year-old girl accidentally kills shooting in...  \n",
              "593  Jason Derulo - Wiggle ft. Snoop Dogg (COVER by...  \n",
              "594  Jinn Caught on Cam in Mecca During Hajj Exclus...  \n",
              "\n",
              "[595 rows x 9 columns]"
            ],
            "text/html": [
              "\n",
              "  <div id=\"df-9cebfb12-7113-4104-86bc-ddda66761691\">\n",
              "    <div class=\"colab-df-container\">\n",
              "      <div>\n",
              "<style scoped>\n",
              "    .dataframe tbody tr th:only-of-type {\n",
              "        vertical-align: middle;\n",
              "    }\n",
              "\n",
              "    .dataframe tbody tr th {\n",
              "        vertical-align: top;\n",
              "    }\n",
              "\n",
              "    .dataframe thead th {\n",
              "        text-align: right;\n",
              "    }\n",
              "</style>\n",
              "<table border=\"1\" class=\"dataframe\">\n",
              "  <thead>\n",
              "    <tr style=\"text-align: right;\">\n",
              "      <th></th>\n",
              "      <th>url_ids</th>\n",
              "      <th>Title</th>\n",
              "      <th>likes</th>\n",
              "      <th>views</th>\n",
              "      <th>label</th>\n",
              "      <th>dislikes</th>\n",
              "      <th>Thumbnail</th>\n",
              "      <th>Comments</th>\n",
              "      <th>Clean</th>\n",
              "    </tr>\n",
              "  </thead>\n",
              "  <tbody>\n",
              "    <tr>\n",
              "      <th>0</th>\n",
              "      <td>hxwpkM5w3Cc</td>\n",
              "      <td>I Got Hunted By The FBI</td>\n",
              "      <td>42724724</td>\n",
              "      <td>2005151</td>\n",
              "      <td>1</td>\n",
              "      <td>24646.0</td>\n",
              "      <td>https://i.ytimg.com/vi/gLTculVDUac/hqdefault.jpg</td>\n",
              "      <td>['Subscribe for a free car!', 'You should make...</td>\n",
              "      <td>I Got Hunted By The FBI subscribe free car mak...</td>\n",
              "    </tr>\n",
              "    <tr>\n",
              "      <th>1</th>\n",
              "      <td>81mXAkFEkMs</td>\n",
              "      <td>10 Real Life Giants You Won't Believe Exist</td>\n",
              "      <td>6890718</td>\n",
              "      <td>15222</td>\n",
              "      <td>1</td>\n",
              "      <td>2858.0</td>\n",
              "      <td>https://i.ytimg.com/vi/gLTculVDUac/hqdefault.jpg</td>\n",
              "      <td>['Hi friends.Thanks for watching!', '&lt;a href=\"...</td>\n",
              "      <td>10 Real Life Giants You Won't Believe Exist hi...</td>\n",
              "    </tr>\n",
              "    <tr>\n",
              "      <th>2</th>\n",
              "      <td>9NQQKNAwaPk</td>\n",
              "      <td>10 Mythical CREATURES That Actually Existed</td>\n",
              "      <td>2089601</td>\n",
              "      <td>46750</td>\n",
              "      <td>1</td>\n",
              "      <td>1954.0</td>\n",
              "      <td>https://i.ytimg.com/vi/gLTculVDUac/hqdefault.jpg</td>\n",
              "      <td>['Pov the kid:AAAAAAAAAAAAAAAAAAAAAAAAAAAAAAAA...</td>\n",
              "      <td>10 Mythical CREATURES That Actually Existed po...</td>\n",
              "    </tr>\n",
              "    <tr>\n",
              "      <th>3</th>\n",
              "      <td>Y_PQrPRolvM</td>\n",
              "      <td>Real Giants Caught On Camera!</td>\n",
              "      <td>518170</td>\n",
              "      <td>4033</td>\n",
              "      <td>1</td>\n",
              "      <td>271.0</td>\n",
              "      <td>https://i.ytimg.com/vi/gLTculVDUac/hqdefault.jpg</td>\n",
              "      <td>['Hi friends.Thanks for watching!', 'im here f...</td>\n",
              "      <td>Real Giants Caught On Camera! hi friend thanks...</td>\n",
              "    </tr>\n",
              "    <tr>\n",
              "      <th>4</th>\n",
              "      <td>ZZtYAOpHVYk</td>\n",
              "      <td>10 Real Life GIANTS</td>\n",
              "      <td>9244943</td>\n",
              "      <td>64025</td>\n",
              "      <td>1</td>\n",
              "      <td>6508.0</td>\n",
              "      <td>https://i.ytimg.com/vi/gLTculVDUac/hqdefault.jpg</td>\n",
              "      <td>['Andre was a very heavy drinker because of co...</td>\n",
              "      <td>10 Real Life GIANTS andre heavy drinker consta...</td>\n",
              "    </tr>\n",
              "    <tr>\n",
              "      <th>...</th>\n",
              "      <td>...</td>\n",
              "      <td>...</td>\n",
              "      <td>...</td>\n",
              "      <td>...</td>\n",
              "      <td>...</td>\n",
              "      <td>...</td>\n",
              "      <td>...</td>\n",
              "      <td>...</td>\n",
              "      <td>...</td>\n",
              "    </tr>\n",
              "    <tr>\n",
              "      <th>590</th>\n",
              "      <td>https://www.youtube.com/watch?v=gP4f-0shRWg</td>\n",
              "      <td>Two Alien Spaceships Approaching the Earth in ...</td>\n",
              "      <td>522</td>\n",
              "      <td>151637</td>\n",
              "      <td>0</td>\n",
              "      <td>NaN</td>\n",
              "      <td>https://i.ytimg.com/vi/gP4f-0shRWg/hqdefault.jpg</td>\n",
              "      <td>['Miya, make a Longer video next time please.....</td>\n",
              "      <td>Two Alien Spaceships Approaching the Earth in ...</td>\n",
              "    </tr>\n",
              "    <tr>\n",
              "      <th>591</th>\n",
              "      <td>https://www.youtube.com/watch?v=phhjGlNIsrg</td>\n",
              "      <td>ISIS Releases David Haines Beheading Video</td>\n",
              "      <td>881</td>\n",
              "      <td>1824279</td>\n",
              "      <td>0</td>\n",
              "      <td>NaN</td>\n",
              "      <td>https://i.ytimg.com/vi/phhjGlNIsrg/hqdefault.jpg</td>\n",
              "      <td>['Now that Trump won the presidency, obama isn...</td>\n",
              "      <td>ISIS Releases David Haines Beheading Video tru...</td>\n",
              "    </tr>\n",
              "    <tr>\n",
              "      <th>592</th>\n",
              "      <td>https://www.youtube.com/watch?v=cfMzK7QwfrU</td>\n",
              "      <td>9-year-old girl accidentally kills shooting in...</td>\n",
              "      <td>40201</td>\n",
              "      <td>15953145</td>\n",
              "      <td>0</td>\n",
              "      <td>NaN</td>\n",
              "      <td>https://i.ytimg.com/vi/cfMzK7QwfrU/hqdefault.jpg</td>\n",
              "      <td>['I&amp;#39;ve watched adults turn around away fro...</td>\n",
              "      <td>9-year-old girl accidentally kills shooting in...</td>\n",
              "    </tr>\n",
              "    <tr>\n",
              "      <th>593</th>\n",
              "      <td>https://www.youtube.com/watch?v=D1GVbLBfrcc</td>\n",
              "      <td>Jason Derulo - Wiggle ft. Snoop Dogg (COVER by...</td>\n",
              "      <td>3646</td>\n",
              "      <td>344256</td>\n",
              "      <td>0</td>\n",
              "      <td>NaN</td>\n",
              "      <td>https://i.ytimg.com/vi/D1GVbLBfrcc/hqdefault.jpg</td>\n",
              "      <td>['amazing content', 'I finally found this', 'M...</td>\n",
              "      <td>Jason Derulo - Wiggle ft. Snoop Dogg (COVER by...</td>\n",
              "    </tr>\n",
              "    <tr>\n",
              "      <th>594</th>\n",
              "      <td>https://www.youtube.com/watch?v=aZwANxjeb1w</td>\n",
              "      <td>Jinn Caught on Cam in Mecca During Hajj Exclus...</td>\n",
              "      <td>1521</td>\n",
              "      <td>1568945</td>\n",
              "      <td>0</td>\n",
              "      <td>NaN</td>\n",
              "      <td>https://i.ytimg.com/vi/aZwANxjeb1w/hqdefault.jpg</td>\n",
              "      <td>['Jin itna chota thodi hote h', '&amp;#39;&amp;#39; is...</td>\n",
              "      <td>Jinn Caught on Cam in Mecca During Hajj Exclus...</td>\n",
              "    </tr>\n",
              "  </tbody>\n",
              "</table>\n",
              "<p>595 rows × 9 columns</p>\n",
              "</div>\n",
              "      <button class=\"colab-df-convert\" onclick=\"convertToInteractive('df-9cebfb12-7113-4104-86bc-ddda66761691')\"\n",
              "              title=\"Convert this dataframe to an interactive table.\"\n",
              "              style=\"display:none;\">\n",
              "        \n",
              "  <svg xmlns=\"http://www.w3.org/2000/svg\" height=\"24px\"viewBox=\"0 0 24 24\"\n",
              "       width=\"24px\">\n",
              "    <path d=\"M0 0h24v24H0V0z\" fill=\"none\"/>\n",
              "    <path d=\"M18.56 5.44l.94 2.06.94-2.06 2.06-.94-2.06-.94-.94-2.06-.94 2.06-2.06.94zm-11 1L8.5 8.5l.94-2.06 2.06-.94-2.06-.94L8.5 2.5l-.94 2.06-2.06.94zm10 10l.94 2.06.94-2.06 2.06-.94-2.06-.94-.94-2.06-.94 2.06-2.06.94z\"/><path d=\"M17.41 7.96l-1.37-1.37c-.4-.4-.92-.59-1.43-.59-.52 0-1.04.2-1.43.59L10.3 9.45l-7.72 7.72c-.78.78-.78 2.05 0 2.83L4 21.41c.39.39.9.59 1.41.59.51 0 1.02-.2 1.41-.59l7.78-7.78 2.81-2.81c.8-.78.8-2.07 0-2.86zM5.41 20L4 18.59l7.72-7.72 1.47 1.35L5.41 20z\"/>\n",
              "  </svg>\n",
              "      </button>\n",
              "      \n",
              "  <style>\n",
              "    .colab-df-container {\n",
              "      display:flex;\n",
              "      flex-wrap:wrap;\n",
              "      gap: 12px;\n",
              "    }\n",
              "\n",
              "    .colab-df-convert {\n",
              "      background-color: #E8F0FE;\n",
              "      border: none;\n",
              "      border-radius: 50%;\n",
              "      cursor: pointer;\n",
              "      display: none;\n",
              "      fill: #1967D2;\n",
              "      height: 32px;\n",
              "      padding: 0 0 0 0;\n",
              "      width: 32px;\n",
              "    }\n",
              "\n",
              "    .colab-df-convert:hover {\n",
              "      background-color: #E2EBFA;\n",
              "      box-shadow: 0px 1px 2px rgba(60, 64, 67, 0.3), 0px 1px 3px 1px rgba(60, 64, 67, 0.15);\n",
              "      fill: #174EA6;\n",
              "    }\n",
              "\n",
              "    [theme=dark] .colab-df-convert {\n",
              "      background-color: #3B4455;\n",
              "      fill: #D2E3FC;\n",
              "    }\n",
              "\n",
              "    [theme=dark] .colab-df-convert:hover {\n",
              "      background-color: #434B5C;\n",
              "      box-shadow: 0px 1px 3px 1px rgba(0, 0, 0, 0.15);\n",
              "      filter: drop-shadow(0px 1px 2px rgba(0, 0, 0, 0.3));\n",
              "      fill: #FFFFFF;\n",
              "    }\n",
              "  </style>\n",
              "\n",
              "      <script>\n",
              "        const buttonEl =\n",
              "          document.querySelector('#df-9cebfb12-7113-4104-86bc-ddda66761691 button.colab-df-convert');\n",
              "        buttonEl.style.display =\n",
              "          google.colab.kernel.accessAllowed ? 'block' : 'none';\n",
              "\n",
              "        async function convertToInteractive(key) {\n",
              "          const element = document.querySelector('#df-9cebfb12-7113-4104-86bc-ddda66761691');\n",
              "          const dataTable =\n",
              "            await google.colab.kernel.invokeFunction('convertToInteractive',\n",
              "                                                     [key], {});\n",
              "          if (!dataTable) return;\n",
              "\n",
              "          const docLinkHtml = 'Like what you see? Visit the ' +\n",
              "            '<a target=\"_blank\" href=https://colab.research.google.com/notebooks/data_table.ipynb>data table notebook</a>'\n",
              "            + ' to learn more about interactive tables.';\n",
              "          element.innerHTML = '';\n",
              "          dataTable['output_type'] = 'display_data';\n",
              "          await google.colab.output.renderOutput(dataTable, element);\n",
              "          const docLink = document.createElement('div');\n",
              "          docLink.innerHTML = docLinkHtml;\n",
              "          element.appendChild(docLink);\n",
              "        }\n",
              "      </script>\n",
              "    </div>\n",
              "  </div>\n",
              "  "
            ]
          },
          "metadata": {},
          "execution_count": 12
        }
      ]
    },
    {
      "cell_type": "code",
      "source": [
        "df['views']"
      ],
      "metadata": {
        "colab": {
          "base_uri": "https://localhost:8080/"
        },
        "id": "KsRT-64NapcT",
        "outputId": "9cbe551e-b76a-4ab5-a125-788be90093ad"
      },
      "execution_count": 13,
      "outputs": [
        {
          "output_type": "execute_result",
          "data": {
            "text/plain": [
              "0       2005151\n",
              "1         15222\n",
              "2         46750\n",
              "3          4033\n",
              "4         64025\n",
              "         ...   \n",
              "590      151637\n",
              "591     1824279\n",
              "592    15953145\n",
              "593      344256\n",
              "594     1568945\n",
              "Name: views, Length: 595, dtype: int64"
            ]
          },
          "metadata": {},
          "execution_count": 13
        }
      ]
    },
    {
      "cell_type": "code",
      "source": [
        "cols_to_scale=['likes','views']\n",
        "from sklearn.preprocessing import StandardScaler\n",
        "scaler = StandardScaler()\n"
      ],
      "metadata": {
        "id": "LGoDm7s9bqtM"
      },
      "execution_count": 14,
      "outputs": []
    },
    {
      "cell_type": "code",
      "source": [
        "df[cols_to_scale]=scaler.fit_transform(df[cols_to_scale])\n",
        "df['views']"
      ],
      "metadata": {
        "colab": {
          "base_uri": "https://localhost:8080/"
        },
        "id": "GOkrM1kkcLXo",
        "outputId": "eee2a47b-846f-4b57-870f-866c55ebec83"
      },
      "execution_count": 15,
      "outputs": [
        {
          "output_type": "execute_result",
          "data": {
            "text/plain": [
              "0     -0.102876\n",
              "1     -0.201176\n",
              "2     -0.199619\n",
              "3     -0.201729\n",
              "4     -0.198765\n",
              "         ...   \n",
              "590   -0.194437\n",
              "591   -0.111811\n",
              "592    0.586140\n",
              "593   -0.184922\n",
              "594   -0.124424\n",
              "Name: views, Length: 595, dtype: float64"
            ]
          },
          "metadata": {},
          "execution_count": 15
        }
      ]
    },
    {
      "cell_type": "code",
      "source": [
        "x=df.drop(['url_ids','Title','dislikes','Thumbnail','Comments','Clean','label'],axis=\"columns\")\n",
        "y=df['label']"
      ],
      "metadata": {
        "id": "2cs83u2KcP1h"
      },
      "execution_count": 16,
      "outputs": []
    },
    {
      "cell_type": "code",
      "source": [
        "x.likes"
      ],
      "metadata": {
        "colab": {
          "base_uri": "https://localhost:8080/"
        },
        "id": "xsow5xI6cReB",
        "outputId": "e4a9f5b8-1062-470c-f678-fbbb4ac3e09a"
      },
      "execution_count": 17,
      "outputs": [
        {
          "output_type": "execute_result",
          "data": {
            "text/plain": [
              "0      2.530844\n",
              "1      0.249945\n",
              "2     -0.055655\n",
              "3     -0.155679\n",
              "4      0.399795\n",
              "         ...   \n",
              "590   -0.188629\n",
              "591   -0.188606\n",
              "592   -0.186103\n",
              "593   -0.188430\n",
              "594   -0.188565\n",
              "Name: likes, Length: 595, dtype: float64"
            ]
          },
          "metadata": {},
          "execution_count": 17
        }
      ]
    },
    {
      "cell_type": "code",
      "source": [
        "from sklearn.model_selection import train_test_split\n",
        "x_train,x_test,y_train,y_test=train_test_split(x,y,test_size=0.2,random_state=5)"
      ],
      "metadata": {
        "id": "AIJjtxxpcmdo"
      },
      "execution_count": 18,
      "outputs": []
    },
    {
      "cell_type": "code",
      "source": [
        "df['label'].value_counts()"
      ],
      "metadata": {
        "colab": {
          "base_uri": "https://localhost:8080/"
        },
        "id": "d5IRT50RhVXS",
        "outputId": "03e5bec2-e5ff-4584-b5cb-b7dc338f27af"
      },
      "execution_count": 19,
      "outputs": [
        {
          "output_type": "execute_result",
          "data": {
            "text/plain": [
              "1    330\n",
              "0    265\n",
              "Name: label, dtype: int64"
            ]
          },
          "metadata": {},
          "execution_count": 19
        }
      ]
    },
    {
      "cell_type": "code",
      "source": [
        "x_train.shape,x_test.shape"
      ],
      "metadata": {
        "colab": {
          "base_uri": "https://localhost:8080/"
        },
        "id": "5YIa-uT8ctex",
        "outputId": "2a1454e1-7ec9-42cc-f938-1f71573d787c"
      },
      "execution_count": 20,
      "outputs": [
        {
          "output_type": "execute_result",
          "data": {
            "text/plain": [
              "((476, 2), (119, 2))"
            ]
          },
          "metadata": {},
          "execution_count": 20
        }
      ]
    },
    {
      "cell_type": "code",
      "source": [
        "import tensorflow as tf\n",
        "from tensorflow import keras"
      ],
      "metadata": {
        "id": "h7NOSwwXc06Q"
      },
      "execution_count": 21,
      "outputs": []
    },
    {
      "cell_type": "code",
      "source": [
        "model=keras.Sequential([\n",
        "    keras.layers.Dense(20,input_shape=(2,),activation='sigmoid'),\n",
        "    keras.layers.Dense(17,input_shape=(2,),activation='sigmoid'),\n",
        "    keras.layers.Dense(1,activation='sigmoid')\n",
        "])\n",
        "model.compile(optimizer='adam',\n",
        "              loss='binary_crossentropy',\n",
        "              metrics=['accuracy'])\n",
        "model.fit(x_train,y_train,epochs=50,batch_size=50,validation_split=0.2)"
      ],
      "metadata": {
        "colab": {
          "base_uri": "https://localhost:8080/"
        },
        "id": "1qO5UYdCc2tY",
        "outputId": "2046d4b3-04ab-413a-c31b-106bb9d2a5b4"
      },
      "execution_count": 22,
      "outputs": [
        {
          "output_type": "stream",
          "name": "stdout",
          "text": [
            "Epoch 1/50\n",
            "8/8 [==============================] - 3s 25ms/step - loss: 0.6970 - accuracy: 0.5421 - val_loss: 0.6935 - val_accuracy: 0.5417\n",
            "Epoch 2/50\n",
            "8/8 [==============================] - 0s 6ms/step - loss: 0.6915 - accuracy: 0.5421 - val_loss: 0.6902 - val_accuracy: 0.5417\n",
            "Epoch 3/50\n",
            "8/8 [==============================] - 0s 6ms/step - loss: 0.6904 - accuracy: 0.5421 - val_loss: 0.6892 - val_accuracy: 0.5417\n",
            "Epoch 4/50\n",
            "8/8 [==============================] - 0s 7ms/step - loss: 0.6903 - accuracy: 0.5421 - val_loss: 0.6892 - val_accuracy: 0.5417\n",
            "Epoch 5/50\n",
            "8/8 [==============================] - 0s 6ms/step - loss: 0.6899 - accuracy: 0.5421 - val_loss: 0.6890 - val_accuracy: 0.5417\n",
            "Epoch 6/50\n",
            "8/8 [==============================] - 0s 5ms/step - loss: 0.6896 - accuracy: 0.5421 - val_loss: 0.6887 - val_accuracy: 0.5417\n",
            "Epoch 7/50\n",
            "8/8 [==============================] - 0s 5ms/step - loss: 0.6895 - accuracy: 0.5421 - val_loss: 0.6885 - val_accuracy: 0.5417\n",
            "Epoch 8/50\n",
            "8/8 [==============================] - 0s 6ms/step - loss: 0.6895 - accuracy: 0.5421 - val_loss: 0.6884 - val_accuracy: 0.5417\n",
            "Epoch 9/50\n",
            "8/8 [==============================] - 0s 6ms/step - loss: 0.6893 - accuracy: 0.5421 - val_loss: 0.6882 - val_accuracy: 0.5417\n",
            "Epoch 10/50\n",
            "8/8 [==============================] - 0s 5ms/step - loss: 0.6892 - accuracy: 0.5421 - val_loss: 0.6881 - val_accuracy: 0.5417\n",
            "Epoch 11/50\n",
            "8/8 [==============================] - 0s 5ms/step - loss: 0.6893 - accuracy: 0.5421 - val_loss: 0.6878 - val_accuracy: 0.5417\n",
            "Epoch 12/50\n",
            "8/8 [==============================] - 0s 5ms/step - loss: 0.6890 - accuracy: 0.5421 - val_loss: 0.6877 - val_accuracy: 0.5417\n",
            "Epoch 13/50\n",
            "8/8 [==============================] - 0s 6ms/step - loss: 0.6893 - accuracy: 0.5421 - val_loss: 0.6876 - val_accuracy: 0.5417\n",
            "Epoch 14/50\n",
            "8/8 [==============================] - 0s 6ms/step - loss: 0.6889 - accuracy: 0.5421 - val_loss: 0.6874 - val_accuracy: 0.5417\n",
            "Epoch 15/50\n",
            "8/8 [==============================] - 0s 5ms/step - loss: 0.6887 - accuracy: 0.5421 - val_loss: 0.6872 - val_accuracy: 0.5417\n",
            "Epoch 16/50\n",
            "8/8 [==============================] - 0s 5ms/step - loss: 0.6886 - accuracy: 0.5421 - val_loss: 0.6870 - val_accuracy: 0.5417\n",
            "Epoch 17/50\n",
            "8/8 [==============================] - 0s 6ms/step - loss: 0.6889 - accuracy: 0.5421 - val_loss: 0.6869 - val_accuracy: 0.5417\n",
            "Epoch 18/50\n",
            "8/8 [==============================] - 0s 6ms/step - loss: 0.6890 - accuracy: 0.5421 - val_loss: 0.6867 - val_accuracy: 0.5417\n",
            "Epoch 19/50\n",
            "8/8 [==============================] - 0s 6ms/step - loss: 0.6883 - accuracy: 0.5421 - val_loss: 0.6865 - val_accuracy: 0.5417\n",
            "Epoch 20/50\n",
            "8/8 [==============================] - 0s 6ms/step - loss: 0.6883 - accuracy: 0.5421 - val_loss: 0.6864 - val_accuracy: 0.5417\n",
            "Epoch 21/50\n",
            "8/8 [==============================] - 0s 7ms/step - loss: 0.6881 - accuracy: 0.5421 - val_loss: 0.6862 - val_accuracy: 0.5417\n",
            "Epoch 22/50\n",
            "8/8 [==============================] - 0s 6ms/step - loss: 0.6884 - accuracy: 0.5421 - val_loss: 0.6861 - val_accuracy: 0.5417\n",
            "Epoch 23/50\n",
            "8/8 [==============================] - 0s 6ms/step - loss: 0.6882 - accuracy: 0.5421 - val_loss: 0.6858 - val_accuracy: 0.5417\n",
            "Epoch 24/50\n",
            "8/8 [==============================] - 0s 7ms/step - loss: 0.6882 - accuracy: 0.5421 - val_loss: 0.6857 - val_accuracy: 0.5417\n",
            "Epoch 25/50\n",
            "8/8 [==============================] - 0s 6ms/step - loss: 0.6878 - accuracy: 0.5421 - val_loss: 0.6855 - val_accuracy: 0.5417\n",
            "Epoch 26/50\n",
            "8/8 [==============================] - 0s 6ms/step - loss: 0.6884 - accuracy: 0.5421 - val_loss: 0.6856 - val_accuracy: 0.5417\n",
            "Epoch 27/50\n",
            "8/8 [==============================] - 0s 6ms/step - loss: 0.6879 - accuracy: 0.5421 - val_loss: 0.6853 - val_accuracy: 0.5417\n",
            "Epoch 28/50\n",
            "8/8 [==============================] - 0s 6ms/step - loss: 0.6877 - accuracy: 0.5421 - val_loss: 0.6851 - val_accuracy: 0.5417\n",
            "Epoch 29/50\n",
            "8/8 [==============================] - 0s 6ms/step - loss: 0.6875 - accuracy: 0.5421 - val_loss: 0.6851 - val_accuracy: 0.5417\n",
            "Epoch 30/50\n",
            "8/8 [==============================] - 0s 6ms/step - loss: 0.6874 - accuracy: 0.5421 - val_loss: 0.6848 - val_accuracy: 0.5417\n",
            "Epoch 31/50\n",
            "8/8 [==============================] - 0s 5ms/step - loss: 0.6875 - accuracy: 0.5421 - val_loss: 0.6846 - val_accuracy: 0.5417\n",
            "Epoch 32/50\n",
            "8/8 [==============================] - 0s 6ms/step - loss: 0.6872 - accuracy: 0.5421 - val_loss: 0.6845 - val_accuracy: 0.5417\n",
            "Epoch 33/50\n",
            "8/8 [==============================] - 0s 6ms/step - loss: 0.6872 - accuracy: 0.5421 - val_loss: 0.6843 - val_accuracy: 0.5417\n",
            "Epoch 34/50\n",
            "8/8 [==============================] - 0s 6ms/step - loss: 0.6870 - accuracy: 0.5421 - val_loss: 0.6841 - val_accuracy: 0.5417\n",
            "Epoch 35/50\n",
            "8/8 [==============================] - 0s 6ms/step - loss: 0.6870 - accuracy: 0.5421 - val_loss: 0.6840 - val_accuracy: 0.5417\n",
            "Epoch 36/50\n",
            "8/8 [==============================] - 0s 8ms/step - loss: 0.6868 - accuracy: 0.5421 - val_loss: 0.6838 - val_accuracy: 0.5417\n",
            "Epoch 37/50\n",
            "8/8 [==============================] - 0s 5ms/step - loss: 0.6867 - accuracy: 0.5421 - val_loss: 0.6837 - val_accuracy: 0.5417\n",
            "Epoch 38/50\n",
            "8/8 [==============================] - 0s 6ms/step - loss: 0.6868 - accuracy: 0.5421 - val_loss: 0.6837 - val_accuracy: 0.5417\n",
            "Epoch 39/50\n",
            "8/8 [==============================] - 0s 6ms/step - loss: 0.6865 - accuracy: 0.5421 - val_loss: 0.6835 - val_accuracy: 0.5417\n",
            "Epoch 40/50\n",
            "8/8 [==============================] - 0s 6ms/step - loss: 0.6865 - accuracy: 0.5421 - val_loss: 0.6832 - val_accuracy: 0.5417\n",
            "Epoch 41/50\n",
            "8/8 [==============================] - 0s 6ms/step - loss: 0.6864 - accuracy: 0.5421 - val_loss: 0.6831 - val_accuracy: 0.5417\n",
            "Epoch 42/50\n",
            "8/8 [==============================] - 0s 5ms/step - loss: 0.6863 - accuracy: 0.5421 - val_loss: 0.6830 - val_accuracy: 0.5417\n",
            "Epoch 43/50\n",
            "8/8 [==============================] - 0s 7ms/step - loss: 0.6863 - accuracy: 0.5421 - val_loss: 0.6828 - val_accuracy: 0.5417\n",
            "Epoch 44/50\n",
            "8/8 [==============================] - 0s 7ms/step - loss: 0.6864 - accuracy: 0.5421 - val_loss: 0.6827 - val_accuracy: 0.5417\n",
            "Epoch 45/50\n",
            "8/8 [==============================] - 0s 5ms/step - loss: 0.6861 - accuracy: 0.5421 - val_loss: 0.6826 - val_accuracy: 0.5417\n",
            "Epoch 46/50\n",
            "8/8 [==============================] - 0s 6ms/step - loss: 0.6860 - accuracy: 0.5421 - val_loss: 0.6824 - val_accuracy: 0.5417\n",
            "Epoch 47/50\n",
            "8/8 [==============================] - 0s 5ms/step - loss: 0.6860 - accuracy: 0.5421 - val_loss: 0.6822 - val_accuracy: 0.5417\n",
            "Epoch 48/50\n",
            "8/8 [==============================] - 0s 6ms/step - loss: 0.6859 - accuracy: 0.5421 - val_loss: 0.6821 - val_accuracy: 0.5417\n",
            "Epoch 49/50\n",
            "8/8 [==============================] - 0s 6ms/step - loss: 0.6857 - accuracy: 0.5421 - val_loss: 0.6819 - val_accuracy: 0.5417\n",
            "Epoch 50/50\n",
            "8/8 [==============================] - 0s 5ms/step - loss: 0.6856 - accuracy: 0.5421 - val_loss: 0.6818 - val_accuracy: 0.5417\n"
          ]
        },
        {
          "output_type": "execute_result",
          "data": {
            "text/plain": [
              "<keras.callbacks.History at 0x7fad40d48580>"
            ]
          },
          "metadata": {},
          "execution_count": 22
        }
      ]
    },
    {
      "cell_type": "code",
      "source": [
        "model.evaluate(x_test,y_test)"
      ],
      "metadata": {
        "colab": {
          "base_uri": "https://localhost:8080/"
        },
        "id": "CgFDzI7vdg_J",
        "outputId": "374b29cb-e71b-4d14-99b0-dddb665c0e78"
      },
      "execution_count": 23,
      "outputs": [
        {
          "output_type": "stream",
          "name": "stdout",
          "text": [
            "4/4 [==============================] - 0s 3ms/step - loss: 0.6734 - accuracy: 0.6050\n"
          ]
        },
        {
          "output_type": "execute_result",
          "data": {
            "text/plain": [
              "[0.6734451651573181, 0.605042040348053]"
            ]
          },
          "metadata": {},
          "execution_count": 23
        }
      ]
    },
    {
      "cell_type": "code",
      "source": [
        "yp=model.predict(x_test)"
      ],
      "metadata": {
        "colab": {
          "base_uri": "https://localhost:8080/"
        },
        "id": "gV_hfj6tdyCk",
        "outputId": "9397431a-5e96-447d-9582-f2ad79e04d2d"
      },
      "execution_count": 24,
      "outputs": [
        {
          "output_type": "stream",
          "name": "stdout",
          "text": [
            "4/4 [==============================] - 0s 2ms/step\n"
          ]
        }
      ]
    },
    {
      "cell_type": "code",
      "source": [
        "y_pred = []\n",
        "for element in yp:\n",
        "    if element > 0.5:\n",
        "        y_pred.append(1)\n",
        "    else:\n",
        "        y_pred.append(0)"
      ],
      "metadata": {
        "id": "Wgsm-t_Hd1MZ"
      },
      "execution_count": 25,
      "outputs": []
    },
    {
      "cell_type": "code",
      "source": [
        "from sklearn.metrics import confusion_matrix , classification_report\n",
        "\n",
        "print(classification_report(y_test,y_pred))"
      ],
      "metadata": {
        "colab": {
          "base_uri": "https://localhost:8080/"
        },
        "id": "iTNQ0hK_dnK5",
        "outputId": "a558712c-2ba2-4985-f9bb-dbdd43304cfc"
      },
      "execution_count": 26,
      "outputs": [
        {
          "output_type": "stream",
          "name": "stdout",
          "text": [
            "              precision    recall  f1-score   support\n",
            "\n",
            "           0       0.00      0.00      0.00        47\n",
            "           1       0.61      1.00      0.75        72\n",
            "\n",
            "    accuracy                           0.61       119\n",
            "   macro avg       0.30      0.50      0.38       119\n",
            "weighted avg       0.37      0.61      0.46       119\n",
            "\n"
          ]
        },
        {
          "output_type": "stream",
          "name": "stderr",
          "text": [
            "/usr/local/lib/python3.8/dist-packages/sklearn/metrics/_classification.py:1318: UndefinedMetricWarning: Precision and F-score are ill-defined and being set to 0.0 in labels with no predicted samples. Use `zero_division` parameter to control this behavior.\n",
            "  _warn_prf(average, modifier, msg_start, len(result))\n",
            "/usr/local/lib/python3.8/dist-packages/sklearn/metrics/_classification.py:1318: UndefinedMetricWarning: Precision and F-score are ill-defined and being set to 0.0 in labels with no predicted samples. Use `zero_division` parameter to control this behavior.\n",
            "  _warn_prf(average, modifier, msg_start, len(result))\n",
            "/usr/local/lib/python3.8/dist-packages/sklearn/metrics/_classification.py:1318: UndefinedMetricWarning: Precision and F-score are ill-defined and being set to 0.0 in labels with no predicted samples. Use `zero_division` parameter to control this behavior.\n",
            "  _warn_prf(average, modifier, msg_start, len(result))\n"
          ]
        }
      ]
    },
    {
      "cell_type": "code",
      "source": [
        "import seaborn as sn\n",
        "import matplotlib.pyplot as plt\n",
        "\n",
        "cm = tf.math.confusion_matrix(labels=y_test,predictions=y_pred)\n",
        "\n",
        "sn.heatmap(cm, annot=True, fmt='d')\n",
        "plt.xlabel('Predicted')\n",
        "plt.ylabel('Truth')"
      ],
      "metadata": {
        "colab": {
          "base_uri": "https://localhost:8080/",
          "height": 297
        },
        "id": "a-4zcMt7dsFp",
        "outputId": "f51909a4-a273-4652-8a1d-c9be8f28550a"
      },
      "execution_count": 27,
      "outputs": [
        {
          "output_type": "execute_result",
          "data": {
            "text/plain": [
              "Text(33.0, 0.5, 'Truth')"
            ]
          },
          "metadata": {},
          "execution_count": 27
        },
        {
          "output_type": "display_data",
          "data": {
            "text/plain": [
              "<Figure size 432x288 with 2 Axes>"
            ],
            "image/png": "[encoded data removed]"
          },
          "metadata": {
            "needs_background": "light"
          }
        }
      ]
    },
    {
      "cell_type": "code",
      "source": [],
      "metadata": {
        "id": "MOUBTk9TeFsY"
      },
      "execution_count": 27,
      "outputs": []
    }
  ]
}